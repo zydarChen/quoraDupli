{
 "cells": [
  {
   "cell_type": "code",
   "execution_count": 73,
   "metadata": {
    "collapsed": true
   },
   "outputs": [],
   "source": [
    "import pandas as pd\n",
    "import numpy as np\n",
    "from sklearn import svm\n",
    "from tqdm import tqdm"
   ]
  },
  {
   "cell_type": "code",
   "execution_count": 79,
   "metadata": {
    "collapsed": false
   },
   "outputs": [],
   "source": [
    "df = pd.read_pickle('D:\\Program\\PycharmProjects\\quoraDupli\\data\\questionVector.pickle')"
   ]
  },
  {
   "cell_type": "code",
   "execution_count": 81,
   "metadata": {
    "collapsed": true
   },
   "outputs": [],
   "source": [
    "def createTrain(df):\n",
    "    df0 = df[df['is_duplicate'] == 0]\n",
    "    df1 = df[df['is_duplicate'] == 1]\n",
    "    # 训练集：测试集 = 5:1\n",
    "    train0 = df0.sample(n=int(df0.shape[0]*0.8))\n",
    "    train1 = df1.sample(n=int(df1.shape[0]*0.8))\n",
    "    test0List = [i for i in df0.index if i not in train0.index]\n",
    "    test1List = [i for i in df1.index if i not in train1.index]\n",
    "#     test0 = df.iloc[test0List, :]\n",
    "#     test1 = df.iloc[test1List, :]\n",
    "    test0 = df0[df0.index.isin(test0List)]\n",
    "    test1 = df1[df1.index.isin(test1List)]\n",
    "\n",
    "    train = train0.append(train1)\n",
    "    test = test0.append(test1)\n",
    "\n",
    "    return train, test"
   ]
  },
  {
   "cell_type": "code",
   "execution_count": 82,
   "metadata": {
    "collapsed": true
   },
   "outputs": [],
   "source": [
    "def featureAndLabel(df):\n",
    "    trainX = []\n",
    "    trainY = []\n",
    "    for i in tqdm(range(df.shape[0])):\n",
    "        row = df.iloc[i]\n",
    "        features = np.append(row['q1Vector'], row['q2Vector'])\n",
    "        label = row['is_duplicate']\n",
    "        trainX.append(features)\n",
    "        trainY.append(label)\n",
    "    return trainX, trainY"
   ]
  },
  {
   "cell_type": "code",
   "execution_count": 83,
   "metadata": {
    "collapsed": false
   },
   "outputs": [],
   "source": [
    "train, test = createTrain(df)"
   ]
  },
  {
   "cell_type": "code",
   "execution_count": 84,
   "metadata": {
    "collapsed": false
   },
   "outputs": [
    {
     "name": "stderr",
     "output_type": "stream",
     "text": [
      "100%|████████████████████████████████████████████████████████████████████████| 323430/323430 [01:14<00:00, 4348.58it/s]\n",
      "100%|██████████████████████████████████████████████████████████████████████████| 80858/80858 [00:18<00:00, 4460.64it/s]\n"
     ]
    }
   ],
   "source": [
    "trainX, trainY = featureAndLabel(train)\n",
    "testX, testY = featureAndLabel(test)"
   ]
  },
  {
   "cell_type": "code",
   "execution_count": 85,
   "metadata": {
    "collapsed": true
   },
   "outputs": [],
   "source": [
    "clf = svm.SVC()"
   ]
  },
  {
   "cell_type": "code",
   "execution_count": null,
   "metadata": {
    "collapsed": false
   },
   "outputs": [],
   "source": [
    "clf.fit(trainX, trainY)"
   ]
  },
  {
   "cell_type": "code",
   "execution_count": 58,
   "metadata": {
    "collapsed": false
   },
   "outputs": [
    {
     "data": {
      "text/plain": [
       "True"
      ]
     },
     "execution_count": 58,
     "metadata": {},
     "output_type": "execute_result"
    }
   ],
   "source": [
    "list(clf.predict(trainX)) == trainY"
   ]
  },
  {
   "cell_type": "code",
   "execution_count": null,
   "metadata": {
    "collapsed": true
   },
   "outputs": [],
   "source": [
    "clf.predict(testX)"
   ]
  },
  {
   "cell_type": "code",
   "execution_count": null,
   "metadata": {
    "collapsed": true
   },
   "outputs": [],
   "source": []
  }
 ],
 "metadata": {
  "kernelspec": {
   "display_name": "Python 2",
   "language": "python",
   "name": "python2"
  },
  "language_info": {
   "codemirror_mode": {
    "name": "ipython",
    "version": 2
   },
   "file_extension": ".py",
   "mimetype": "text/x-python",
   "name": "python",
   "nbconvert_exporter": "python",
   "pygments_lexer": "ipython2",
   "version": "2.7.13"
  }
 },
 "nbformat": 4,
 "nbformat_minor": 2
}
