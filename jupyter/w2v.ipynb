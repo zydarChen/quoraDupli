{
 "cells": [
  {
   "cell_type": "code",
   "execution_count": 2,
   "metadata": {
    "collapsed": false
   },
   "outputs": [],
   "source": [
    "import os  \n",
    "import pandas as pd\n",
    "import numpy as np\n",
    "import gensim\n",
    "from tqdm import tqdm"
   ]
  },
  {
   "cell_type": "markdown",
   "metadata": {},
   "source": [
    "## 数据加载"
   ]
  },
  {
   "cell_type": "code",
   "execution_count": 3,
   "metadata": {
    "collapsed": false
   },
   "outputs": [],
   "source": [
    "df = pd.read_csv(\"D:\\Program\\PycharmProjects\\quoraDupli\\data\\quora_duplicate_questions.tsv\",delimiter='\\t')\n",
    "df = df.fillna('miss')\n",
    "# df['question1'] = df['question1'].apply(lambda x: unicode(str(x),\"utf-8\"))  # 转化为unicode，避免NaN\n",
    "# df"
   ]
  },
  {
   "cell_type": "markdown",
   "metadata": {},
   "source": [
    "## 统计数据"
   ]
  },
  {
   "cell_type": "code",
   "execution_count": 3,
   "metadata": {
    "collapsed": false
   },
   "outputs": [
    {
     "name": "stdout",
     "output_type": "stream",
     "text": [
      "rowNum = 404290\n",
      "rowNum0 = 255027\n",
      "rowNum1 = 149263\n",
      "rowNum1 : rowNum0 = 1 : 1.708575\n"
     ]
    }
   ],
   "source": [
    "rowNum = df.shape[0]\n",
    "# rowNum = len(df.index)\n",
    "# rowNum0 = len(df[df['is_duplicate'].isin([0])].index)\n",
    "# rowNum0 = len(df[df['is_duplicate'] == 0])\n",
    "rowNum0 = df['is_duplicate'].value_counts()[0]\n",
    "rowNum1 = df['is_duplicate'].value_counts()[1]\n",
    "print 'rowNum = %d' % rowNum\n",
    "print 'rowNum0 = %d' % rowNum0\n",
    "print 'rowNum1 = %d' % rowNum1\n",
    "print 'rowNum1 : rowNum0 = 1 : %f' % (rowNum0*1.0/rowNum1)"
   ]
  },
  {
   "cell_type": "code",
   "execution_count": 4,
   "metadata": {
    "collapsed": true
   },
   "outputs": [
    {
     "data": {
      "text/plain": [
       "Counter({1: 2,\n",
       "         2: 2,\n",
       "         3: 5,\n",
       "         4: 12,\n",
       "         5: 757,\n",
       "         6: 1646,\n",
       "         7: 3121,\n",
       "         8: 4623,\n",
       "         9: 6864,\n",
       "         10: 9257,\n",
       "         11: 13931,\n",
       "         12: 16210,\n",
       "         13: 21740,\n",
       "         14: 22235,\n",
       "         15: 25744,\n",
       "         16: 24197,\n",
       "         17: 25552,\n",
       "         18: 22481,\n",
       "         19: 21974,\n",
       "         20: 18329,\n",
       "         21: 17314,\n",
       "         22: 14497,\n",
       "         23: 13535,\n",
       "         24: 11429,\n",
       "         25: 10464,\n",
       "         26: 9011,\n",
       "         27: 9406,\n",
       "         28: 7597,\n",
       "         29: 7646,\n",
       "         30: 5994,\n",
       "         31: 6136,\n",
       "         32: 4911,\n",
       "         33: 5150,\n",
       "         34: 3954,\n",
       "         35: 4041,\n",
       "         36: 3309,\n",
       "         37: 3512,\n",
       "         38: 2693,\n",
       "         39: 2752,\n",
       "         40: 2184,\n",
       "         41: 2486,\n",
       "         42: 1884,\n",
       "         43: 1944,\n",
       "         44: 1384,\n",
       "         45: 1235,\n",
       "         46: 1126,\n",
       "         47: 990,\n",
       "         48: 902,\n",
       "         49: 847,\n",
       "         50: 679,\n",
       "         51: 724,\n",
       "         52: 550,\n",
       "         53: 488,\n",
       "         54: 464,\n",
       "         55: 384,\n",
       "         56: 358,\n",
       "         57: 366,\n",
       "         58: 283,\n",
       "         59: 256,\n",
       "         60: 260,\n",
       "         61: 200,\n",
       "         62: 202,\n",
       "         63: 172,\n",
       "         64: 152,\n",
       "         65: 159,\n",
       "         66: 117,\n",
       "         67: 127,\n",
       "         68: 118,\n",
       "         69: 87,\n",
       "         70: 96,\n",
       "         71: 70,\n",
       "         72: 54,\n",
       "         73: 61,\n",
       "         74: 72,\n",
       "         75: 68,\n",
       "         76: 46,\n",
       "         77: 61,\n",
       "         78: 55,\n",
       "         79: 41,\n",
       "         80: 35,\n",
       "         81: 49,\n",
       "         82: 37,\n",
       "         83: 34,\n",
       "         84: 37,\n",
       "         85: 28,\n",
       "         86: 32,\n",
       "         87: 32,\n",
       "         88: 23,\n",
       "         89: 21,\n",
       "         90: 15,\n",
       "         91: 17,\n",
       "         92: 9,\n",
       "         93: 10,\n",
       "         94: 14,\n",
       "         95: 12,\n",
       "         96: 5,\n",
       "         97: 6,\n",
       "         98: 4,\n",
       "         99: 7,\n",
       "         100: 11,\n",
       "         101: 1,\n",
       "         102: 2,\n",
       "         103: 4,\n",
       "         104: 3,\n",
       "         105: 2,\n",
       "         106: 2,\n",
       "         107: 3,\n",
       "         108: 2,\n",
       "         109: 3,\n",
       "         110: 4,\n",
       "         111: 1,\n",
       "         115: 3,\n",
       "         121: 1,\n",
       "         122: 1,\n",
       "         123: 1,\n",
       "         126: 2,\n",
       "         128: 1,\n",
       "         129: 1,\n",
       "         130: 3,\n",
       "         133: 1,\n",
       "         138: 2,\n",
       "         141: 1,\n",
       "         149: 1,\n",
       "         151: 1,\n",
       "         153: 1,\n",
       "         155: 2,\n",
       "         160: 1,\n",
       "         172: 1,\n",
       "         250: 1,\n",
       "         254: 1,\n",
       "         255: 2,\n",
       "         256: 1,\n",
       "         257: 1,\n",
       "         260: 1,\n",
       "         261: 2,\n",
       "         262: 1,\n",
       "         263: 1,\n",
       "         264: 1,\n",
       "         266: 2,\n",
       "         268: 1,\n",
       "         269: 1})"
      ]
     },
     "execution_count": 4,
     "metadata": {},
     "output_type": "execute_result"
    }
   ],
   "source": [
    "# 统计问题长度\n",
    "from collections import Counter\n",
    "Counter([len(x.split()) for x in df['question1'] + df['question2']])"
   ]
  },
  {
   "cell_type": "markdown",
   "metadata": {},
   "source": [
    "## 模型训练"
   ]
  },
  {
   "cell_type": "code",
   "execution_count": 4,
   "metadata": {
    "collapsed": false
   },
   "outputs": [
    {
     "name": "stderr",
     "output_type": "stream",
     "text": [
      "100%|███████████████████████████████████████████████████████████████████████| 808580/808580 [00:42<00:00, 19152.49it/s]\n"
     ]
    }
   ],
   "source": [
    "questions = list(df['question1']) + list(df['question2'])\n",
    "c = 0\n",
    "for question in tqdm(questions):\n",
    "    questions[c] = list(gensim.utils.tokenize(question, deacc=True, lower=True))\n",
    "    c += 1"
   ]
  },
  {
   "cell_type": "code",
   "execution_count": 12,
   "metadata": {
    "collapsed": false
   },
   "outputs": [
    {
     "data": {
      "text/plain": [
       "array([ 0.01206314, -0.0237015 ,  0.02629835,  0.03780958, -0.05400881], dtype=float32)"
      ]
     },
     "execution_count": 12,
     "metadata": {},
     "output_type": "execute_result"
    }
   ],
   "source": [
    "model = gensim.models.Word2Vec(questions[:10], size=5, min_count=1)\n",
    "w2v = dict(zip(model.wv.index2word, model.wv.syn0))\n",
    "w2v['a']"
   ]
  },
  {
   "cell_type": "code",
   "execution_count": 13,
   "metadata": {
    "collapsed": false
   },
   "outputs": [
    {
     "data": {
      "text/plain": [
       "TfidfVectorizer(analyzer=<function <lambda> at 0x000000003E3066D8>,\n",
       "        binary=False, decode_error=u'strict', dtype=<type 'numpy.int64'>,\n",
       "        encoding=u'utf-8', input=u'content', lowercase=True, max_df=1.0,\n",
       "        max_features=None, min_df=1, ngram_range=(1, 1), norm=u'l2',\n",
       "        preprocessor=None, smooth_idf=True, stop_words=None,\n",
       "        strip_accents=None, sublinear_tf=False,\n",
       "        token_pattern=u'(?u)\\\\b\\\\w\\\\w+\\\\b', tokenizer=None, use_idf=True,\n",
       "        vocabulary=None)"
      ]
     },
     "execution_count": 13,
     "metadata": {},
     "output_type": "execute_result"
    }
   ],
   "source": [
    "from sklearn.feature_extraction.text import TfidfVectorizer\n",
    "tfidf = TfidfVectorizer(analyzer=lambda x: x)\n",
    "tfidf.fit(w2v)"
   ]
  },
  {
   "cell_type": "code",
   "execution_count": null,
   "metadata": {
    "collapsed": true
   },
   "outputs": [],
   "source": []
  }
 ],
 "metadata": {
  "kernelspec": {
   "display_name": "Python 2",
   "language": "python",
   "name": "python2"
  },
  "language_info": {
   "codemirror_mode": {
    "name": "ipython",
    "version": 2
   },
   "file_extension": ".py",
   "mimetype": "text/x-python",
   "name": "python",
   "nbconvert_exporter": "python",
   "pygments_lexer": "ipython2",
   "version": "2.7.13"
  }
 },
 "nbformat": 4,
 "nbformat_minor": 2
}
