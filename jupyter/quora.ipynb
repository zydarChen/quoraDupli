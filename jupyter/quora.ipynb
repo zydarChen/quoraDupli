{
 "cells": [
  {
   "cell_type": "markdown",
   "metadata": {},
   "source": [
    "# 数据预处理"
   ]
  },
  {
   "cell_type": "code",
   "execution_count": 7,
   "metadata": {},
   "outputs": [],
   "source": [
    "import pandas as pd\n",
    "from tqdm import tqdm\n",
    "import numpy as np\n",
    "from collections import Counter\n",
    "import matplotlib.pyplot as plt\n",
    "import json\n",
    "import os\n",
    "\n",
    "# 工作路径改为/quoraDupli\n",
    "os.chdir(os.path.dirname(os.getcwd()))\n",
    "print os.getcwd()"
   ]
  },
  {
   "cell_type": "code",
   "execution_count": 2,
   "metadata": {
    "collapsed": true
   },
   "outputs": [],
   "source": [
    "# 数据载入\n",
    "def dataLoad(path=os.path.join('data', 'quora_duplicate_questions.tsv')):\n",
    "    df = pd.read_csv(path, delimiter='\\t')\n",
    "    df = df.dropna(how='any')  # 删除两行缺失数据\n",
    "    # 转换编码\n",
    "    df['question1'] = df['question1'].apply(lambda x: unicode(str(x), 'utf-8'))\n",
    "    df['question2'] = df['question2'].apply(lambda x: unicode(str(x), 'utf-8'))\n",
    "    \n",
    "    stats(df)\n",
    "    \n",
    "    return df\n",
    "\n",
    "# 统计数据信息\n",
    "def stats(df):\n",
    "    print '数据量: %d行' % (df.shape[0])\n",
    "    rowNum0 = df['is_duplicate'].value_counts()[0]\n",
    "    rowNum1 = df['is_duplicate'].value_counts()[1]\n",
    "    print '重复: 不重复 = %d : %d = 1 : %f' \\\n",
    "          % (rowNum1, rowNum0, (rowNum0 * 1.0 / rowNum1))\n",
    "    uniqueId = set(list(df['qid2'].unique()) + list(df['qid1'].unique()))\n",
    "    print '问题总数: %d' % (len(uniqueId))\n",
    "\n",
    "# 绘图\n",
    "def drawing(df):\n",
    "    counter = Counter([len(x.split()) for x in df['question1'] + df['question2']])\n",
    "    labels = ['0-9', '10-19', '20-29', '30-39', '>=40']\n",
    "    sizes = [0, 0, 0, 0, 0]\n",
    "    for k, v in counter.items():\n",
    "        if 0 <= k < 10:\n",
    "            sizes[0] += v\n",
    "        elif 10 <= k < 20:\n",
    "            sizes[1] += v\n",
    "        elif 20 <= k < 30:\n",
    "            sizes[2] += v\n",
    "        elif 30 <= k < 40:\n",
    "            sizes[3] += v\n",
    "        else:\n",
    "            sizes[4] += v\n",
    "    plt.pie(sizes, labels=labels, explode=(0.05, 0, 0, 0.05, 0.05),\n",
    "            autopct='%2.2f%%', pctdistance=0.8)\n",
    "    plt.axis('equal')\n",
    "    plt.legend(loc='upper right')\n",
    "    plt.show()\n",
    "\n",
    "# 计算TF-IDF分数\n",
    "# 返回dict={'word':tfidfScore}\n",
    "def getTfIdfScore(df):\n",
    "    from sklearn.feature_extraction.text import TfidfVectorizer\n",
    "\n",
    "    questions = list(df['question1']) + list(df['question2'])\n",
    "\n",
    "    tfIdf = TfidfVectorizer(lowercase=False)\n",
    "    tfIdf.fit_transform(questions)\n",
    "\n",
    "    word2tfIdf = dict(zip(tfIdf.get_feature_names(), tfIdf.idf_))\n",
    "    return word2tfIdf"
   ]
  },
  {
   "cell_type": "code",
   "execution_count": 4,
   "metadata": {},
   "outputs": [
    {
     "name": "stdout",
     "output_type": "stream",
     "text": [
      "数据量: 404288行\n",
      "重复: 不重复 = 149263 : 255025 = 1 : 1.708561\n",
      "问题总数: 537931\n"
     ]
    }
   ],
   "source": [
    "data = dataLoad()\n",
    "drawing(data)\n",
    "    \n",
    "with open(os.path.join('data', 'tfIdfScore.json'), 'w') as fp:\n",
    "    fp.write(json.dumps(getTfIdfScore(data)))"
   ]
  },
  {
   "cell_type": "markdown",
   "metadata": {},
   "source": [
    "# w2v"
   ]
  },
  {
   "cell_type": "markdown",
   "metadata": {},
   "source": [
    "导入spaCy模型数据，将每个词转化为300维的向量"
   ]
  },
  {
   "cell_type": "code",
   "execution_count": 8,
   "metadata": {},
   "outputs": [
    {
     "name": "stdout",
     "output_type": "stream",
     "text": [
      "数据量: 404288行\n",
      "重复: 不重复 = 149263 : 255025 = 1 : 1.708561\n",
      "问题总数: 537931\n"
     ]
    },
    {
     "name": "stderr",
     "output_type": "stream",
     "text": [
      "  0%|          | 61/404288 [00:00<11:09, 603.69it/s]"
     ]
    },
    {
     "name": "stdout",
     "output_type": "stream",
     "text": [
      "正在处理question1......\n"
     ]
    },
    {
     "name": "stderr",
     "output_type": "stream",
     "text": [
      "100%|██████████| 404288/404288 [07:53<00:00, 854.57it/s]\n",
      "  0%|          | 92/404288 [00:00<07:27, 903.39it/s]"
     ]
    },
    {
     "name": "stdout",
     "output_type": "stream",
     "text": [
      "正在处理question2......\n"
     ]
    },
    {
     "name": "stderr",
     "output_type": "stream",
     "text": [
      "100%|██████████| 404288/404288 [08:13<00:00, 818.57it/s]\n"
     ]
    }
   ],
   "source": [
    "# 数据载入\n",
    "df = dataLoad()\n",
    "if os.path.exists(os.path.join('data', 'tfIdfScore.json')):\n",
    "    with open(os.path.join('data', 'tfIdfScore.json'), 'r') as fp:\n",
    "        tfIdfScore = json.loads(fp.read())\n",
    "else:\n",
    "    print '载入tfIdfScore.json失败'\n",
    "    tfIdfScore = getTfIdfScore(df)\n",
    "\n",
    "import en_core_web_md as md\n",
    "\n",
    "nlp = md.load()\n",
    "questionList = [list(df['question1']), list(df['question2'])]\n",
    "finalVec = []\n",
    "for i, questions in enumerate(questionList):\n",
    "    print '正在处理question%i......' % (i+1)\n",
    "    vec = []\n",
    "    for question in tqdm(questions):\n",
    "        words = nlp(question)\n",
    "        mean_vec = np.zeros([len(words), 300])\n",
    "        for word in words:\n",
    "            wordVector = word.vector\n",
    "            try:\n",
    "                idf = tfIdfScore[str(word)]\n",
    "            except:\n",
    "                idf = 0\n",
    "            mean_vec += wordVector * idf\n",
    "        mean_vec = mean_vec.mean(axis=0)\n",
    "        vec.append(mean_vec)\n",
    "    finalVec.append(vec)\n",
    "\n",
    "df['q1Vector'] = finalVec[0]\n",
    "df['q2Vector'] = finalVec[1]\n",
    "\n",
    "# 保存，方便下次调用\n",
    "pd.to_pickle(df, os.path.join('data', 'questionVector.pickle'))"
   ]
  }
 ],
 "metadata": {
  "kernelspec": {
   "display_name": "Python 2",
   "language": "python",
   "name": "python2"
  },
  "language_info": {
   "codemirror_mode": {
    "name": "ipython",
    "version": 2
   },
   "file_extension": ".py",
   "mimetype": "text/x-python",
   "name": "python",
   "nbconvert_exporter": "python",
   "pygments_lexer": "ipython2",
   "version": "2.7.13"
  }
 },
 "nbformat": 4,
 "nbformat_minor": 2
}
