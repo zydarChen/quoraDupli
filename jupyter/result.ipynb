{
 "cells": [
  {
   "cell_type": "code",
   "execution_count": 2,
   "metadata": {},
   "outputs": [
    {
     "name": "stdout",
     "output_type": "stream",
     "text": [
      "/software/home/chenzh/software/jupyter/quoraDupli\n"
     ]
    }
   ],
   "source": [
    "import os\n",
    "# 工作路径改为/quoraDupli\n",
    "os.chdir(os.path.dirname(os.getcwd()))\n",
    "print os.getcwd()"
   ]
  },
  {
   "cell_type": "code",
   "execution_count": 7,
   "metadata": {
    "collapsed": true
   },
   "outputs": [],
   "source": [
    "import codecs\n",
    "with codecs.open('result.txt', 'r', 'gbk') as fp:\n",
    "    result = fp.read()"
   ]
  },
  {
   "cell_type": "code",
   "execution_count": 8,
   "metadata": {},
   "outputs": [
    {
     "name": "stdout",
     "output_type": "stream",
     "text": [
      "1500\n",
      "501\n"
     ]
    }
   ],
   "source": [
    "import re\n",
    "percent = re.findall('(\\d*\\.\\d*)%', result)\n",
    "print len(percent)\n",
    "f1_list = re.findall('0\\.\\d{6}', result)\n",
    "print len(f1_list)"
   ]
  },
  {
   "cell_type": "code",
   "execution_count": 9,
   "metadata": {},
   "outputs": [
    {
     "name": "stdout",
     "output_type": "stream",
     "text": [
      "500\n",
      "500\n",
      "500\n"
     ]
    }
   ],
   "source": [
    "accuracy = []\n",
    "precision = []\n",
    "recall = []\n",
    "for i, per in enumerate(percent):\n",
    "    if i%3 == 0:\n",
    "        accuracy.append(per)\n",
    "    elif i%3 == 1:\n",
    "        precision.append(per)\n",
    "    else:\n",
    "        recall.append(per)\n",
    "print len(accuracy)\n",
    "print len(precision)\n",
    "print len(recall)"
   ]
  },
  {
   "cell_type": "code",
   "execution_count": 10,
   "metadata": {
    "collapsed": true
   },
   "outputs": [],
   "source": [
    "import pandas as pd\n",
    "df = pd.DataFrame({u'正确率': accuracy,\n",
    "                  u'准确率': precision,\n",
    "                  u'召回率': recall,\n",
    "                  u'F1值': f1_list[:-1]})"
   ]
  },
  {
   "cell_type": "code",
   "execution_count": 11,
   "metadata": {},
   "outputs": [],
   "source": [
    "df.to_excel('result.xls')"
   ]
  },
  {
   "cell_type": "code",
   "execution_count": null,
   "metadata": {
    "collapsed": true
   },
   "outputs": [],
   "source": []
  }
 ],
 "metadata": {
  "kernelspec": {
   "display_name": "Python 2",
   "language": "python",
   "name": "python2"
  },
  "language_info": {
   "codemirror_mode": {
    "name": "ipython",
    "version": 2
   },
   "file_extension": ".py",
   "mimetype": "text/x-python",
   "name": "python",
   "nbconvert_exporter": "python",
   "pygments_lexer": "ipython2",
   "version": "2.7.13"
  }
 },
 "nbformat": 4,
 "nbformat_minor": 2
}
